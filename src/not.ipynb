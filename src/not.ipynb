{
 "metadata": {
  "language_info": {
   "codemirror_mode": {
    "name": "ipython",
    "version": 3
   },
   "file_extension": ".py",
   "mimetype": "text/x-python",
   "name": "python",
   "nbconvert_exporter": "python",
   "pygments_lexer": "ipython3",
   "version": "3.7.6-final"
  },
  "orig_nbformat": 2,
  "kernelspec": {
   "name": "python3",
   "display_name": "Python 3",
   "language": "python"
  }
 },
 "nbformat": 4,
 "nbformat_minor": 2,
 "cells": [
  {
   "cell_type": "code",
   "execution_count": 4,
   "metadata": {},
   "outputs": [
    {
     "output_type": "stream",
     "name": "stdout",
     "text": [
      "⎡1   √3⋅ⅈ  1   √3⋅ⅈ⎤\n⎢─ - ────, ─ + ────⎥\n⎣2    2    2    2  ⎦\n<class 'sympy.core.add.Add'>\n"
     ]
    }
   ],
   "source": [
    "# from sympy import *\n",
    "import sympy as sp\n",
    "x = sp.Symbol('x')\n",
    "sol = sp.solve(x**2 - x+1, x)\n",
    "sp.pprint(sol)\n",
    "print(type(sol[0]))"
   ]
  },
  {
   "source": [
    "> 这里是MD cell\n",
    "- 无序1\n",
    "- 无序2\n",
    "1. 有序1\n",
    "2. 有序2"
   ],
   "cell_type": "markdown",
   "metadata": {}
  },
  {
   "cell_type": "code",
   "execution_count": 8,
   "metadata": {},
   "outputs": [
    {
     "output_type": "execute_result",
     "data": {
      "text/plain": [
       "1.5707963267948966"
      ]
     },
     "metadata": {},
     "execution_count": 8
    }
   ],
   "source": [
    "import math\n",
    "math.asin(1)"
   ]
  },
  {
   "cell_type": "code",
   "execution_count": null,
   "metadata": {},
   "outputs": [],
   "source": []
  }
 ]
}